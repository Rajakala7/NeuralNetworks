
{
  "cells": [
    {
      "cell_type": "code",
      "execution_count": null,
      "metadata": {
        "colab": {
          "base_uri": "https://localhost:8080/"
        },
        "id": "1vpRUAoZxbqa",
        "outputId": "87589272-ac68-482e-ccda-d5b033659624"
      },
      "outputs": [
        {
          "name": "stdout",
          "output_type": "stream",
          "text": [
            "Your First Name : Rajakala\n",
            "Your Last Name : Jaidi\n",
            "RajakalaJaidi\n"
          ]
        }
      ],
      "source": [
        "First_name = ( input(\"Your First Name : \"))\n",
        "last_name = (input(\"Your Last Name : \"))\n",
        "Full_Name = print(First_name +    last_name)\n"
      ]
    },
    {
      "cell_type": "code",
      "execution_count": null,
      "metadata": {
        "colab": {
          "base_uri": "https://localhost:8080/"
        },
        "id": "1ww71o1DxtQ9",
        "outputId": "f15e85b5-4e5f-4adb-c350-1a6557a6cc3d"
      },
      "outputs": [
        {
          "name": "stdout",
          "output_type": "stream",
          "text": [
            "Go vnn\n"
          ]
        }
      ],
      "source": [
        "def string_alternative(Str):\n",
        "    output = \"\"\n",
        "    for a in range(len(Str)):\n",
        "        if a % 2 == 0:\n",
        "            output += Str[a]\n",
        "    return output\n",
        "print(string_alternative(\"Good evening\"))"
      ]
    },
    {
      "cell_type": "code",
      "execution_count": null,
      "metadata": {
        "colab": {
          "base_uri": "https://localhost:8080/"
        },
        "id": "NybPE6Qtxw_g",
        "outputId": "0d61e7f7-c0a4-4a5f-fedc-324aa36a6f31"
      },
      "outputs": [
        {
          "name": "stdout",
          "output_type": "stream",
          "text": [
            "{'Python': 1, 'Course': 2, 'Deep': 1, 'Learning': 1}\n"
          ]
        }
      ],
      "source": [
        "file1 = open('input.txt', 'r')\n",
        "counts = dict()\n",
        "data = file1.read()\n",
        "words = data.split()\n",
        "for word in words:\n",
        "    if word in counts:\n",
        "        counts[word] += 1\n",
        "    else:\n",
        "        counts[word] = 1\n",
        "print(counts)\n",
        "f = open('output.txt', 'w')\n",
        "f.write(data)\n",
        "f.write('\\nword_count:\\n')\n",
        "for key, value in counts.items():\n",
        "    f.write(f\"{key}: {value}\\n\")\n",
        "f.close()\n"
      ]
    },
    {
      "cell_type": "code",
      "execution_count": null,
      "metadata": {
        "colab": {
          "background_save": true,
          "base_uri": "https://localhost:8080/"
        },
        "id": "zj74QRvlx6GD",
        "outputId": "5847324b-c3bf-41b2-acb6-2253190b1eec"
      },
      "outputs": [
        {
          "name": "stdout",
          "output_type": "stream",
          "text": [
            "[381.0, 393.7, 368.3, 375.92]\n"
          ]
        }
      ],
      "source": [
        "L1=list(map(float,input().split()))\n",
        "L2=[]\n",
        "for x in L1:\n",
        "    x=x*2.54\n",
        "    L2.append(x)\n",
        "print(L2)\n",
        "\n",
        "3.2\n",
        "\n",
        "L1=list(map(float,input().split()))\n",
        "L2=[x*2.54 for x in L1]\n",
        "print(L2)"
      ]
    }
  ],
  "metadata": {
    "colab": {
      "provenance": []
    },
    "kernelspec": {
      "display_name": "Python 3",
      "name": "python3"
    },
    "language_info": {
      "name": "python"
    }
  },
  "nbformat": 4,
  "nbformat_minor": 0
}
