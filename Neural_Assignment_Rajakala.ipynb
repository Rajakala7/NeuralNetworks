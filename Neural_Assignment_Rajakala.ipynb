{
 "cells": [
  {
   "cell_type": "markdown",
   "metadata": {},
   "source": [
    "Neural Networs Assignment 1\n",
    "Name: Rajakala Jaidi\n",
    "Student ID: 700744420"
   ]
  },
  {
   "cell_type": "code",
   "execution_count": 7,
   "metadata": {},
   "outputs": [
    {
     "name": "stdout",
     "output_type": "stream",
     "text": [
      "ntyp\n"
     ]
    }
   ],
   "source": [
    "#This reads input\n",
    "s=input()\n",
    "l=list(s)\n",
    "# The below remove at least two characters\n",
    "l.remove('o');\n",
    "l.remove('h');\n",
    "#The below command reverse the string\n",
    "l=l[::-1]\n",
    "#The below is for printing the output\n",
    "a=''\n",
    "for i in l:\n",
    "    a=a+i\n",
    "print(a)"
   ]
  },
  {
   "cell_type": "code",
   "execution_count": 8,
   "metadata": {},
   "outputs": [
    {
     "name": "stdout",
     "output_type": "stream",
     "text": [
      "4 3\n",
      "12\n",
      "7\n",
      "1\n",
      "1\n"
     ]
    }
   ],
   "source": [
    "#This is for reading two numbers\n",
    "a=int(input())\n",
    "b=int(input())\n",
    "\n",
    "print(a,b) # This prints the input numbers\n",
    "#The Below are 4 different arithmetic operations\n",
    "print(a*b)\n",
    "print(a+b)\n",
    "print(a-b)\n",
    "print(a%b)"
   ]
  },
  {
   "cell_type": "code",
   "execution_count": 9,
   "metadata": {},
   "outputs": [
    {
     "name": "stdout",
     "output_type": "stream",
     "text": [
      "i love pythons \n"
     ]
    }
   ],
   "source": [
    "#This is input string\n",
    "s=input()\n",
    "#This will replace occurance of python in the string with pythons\n",
    "print(s.replace('python','pythons'))\n",
    "     "
   ]
  },
  {
   "cell_type": "code",
   "execution_count": 10,
   "metadata": {},
   "outputs": [
    {
     "name": "stdout",
     "output_type": "stream",
     "text": [
      "your grade is A\n"
     ]
    }
   ],
   "source": [
    "#This takes input between 1 and 100\n",
    "x=int(input(\"enter a value between 1 and 100: \"))\n",
    "if(x>90):\n",
    "    print(\"your grade is A\") \n",
    "elif(x<=90 and x>80):\n",
    "    print(\"your grade is B\")\n",
    "elif(x<=80 and x>70):\n",
    "    print(\"your grade is C\")\n",
    "elif(x<=70 and x>60):\n",
    "    print(\"your grade is D\")\n",
    "else:\n",
    "    print(\"your grade is F\")"
   ]
  }
 ],
 "metadata": {
  "kernelspec": {
   "display_name": "Python 3",
   "language": "python",
   "name": "python3"
  },
  "language_info": {
   "codemirror_mode": {
    "name": "ipython",
    "version": 3
   },
   "file_extension": ".py",
   "mimetype": "text/x-python",
   "name": "python",
   "nbconvert_exporter": "python",
   "pygments_lexer": "ipython3",
   "version": "3.11.5"
  }
 },
 "nbformat": 4,
 "nbformat_minor": 2
}
